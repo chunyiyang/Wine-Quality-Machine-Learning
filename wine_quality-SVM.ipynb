{
 "cells": [
  {
   "cell_type": "code",
   "execution_count": 72,
   "metadata": {
    "collapsed": true
   },
   "outputs": [],
   "source": [
    "import numpy as np\n",
    "from sklearn import datasets\n",
    "import pandas as pd\n",
    "import matplotlib.pyplot as plt\n",
    "from scipy.misc import imread\n",
    "import matplotlib.image as mpimg\n",
    "import os"
   ]
  },
  {
   "cell_type": "code",
   "execution_count": 73,
   "metadata": {
    "collapsed": false
   },
   "outputs": [],
   "source": [
    "file = open('winequality-white-original.csv')\n",
    "mylist = []\n",
    "for line in file:\n",
    "    tokens = line.strip().split(';')\n",
    "    mylist += [tokens]"
   ]
  },
  {
   "cell_type": "code",
   "execution_count": 74,
   "metadata": {
    "collapsed": false
   },
   "outputs": [],
   "source": [
    "mylist = mylist[1:]\n"
   ]
  },
  {
   "cell_type": "code",
   "execution_count": 75,
   "metadata": {
    "collapsed": false
   },
   "outputs": [
    {
     "name": "stdout",
     "output_type": "stream",
     "text": [
      "(4898, 12)\n"
     ]
    }
   ],
   "source": [
    "rawdata = np.asarray(mylist, dtype=np.float32)\n",
    "print(rawdata.shape)"
   ]
  },
  {
   "cell_type": "code",
   "execution_count": 76,
   "metadata": {
    "collapsed": false
   },
   "outputs": [
    {
     "name": "stdout",
     "output_type": "stream",
     "text": [
      "(4890, 12)\n",
      "4890\n"
     ]
    }
   ],
   "source": [
    "np.random.shuffle(rawdata)\n",
    "rawdata = rawdata[:4890,:]\n",
    "print(rawdata.shape)\n",
    "[length, features] = rawdata.shape\n",
    "print(length)"
   ]
  },
  {
   "cell_type": "code",
   "execution_count": 77,
   "metadata": {
    "collapsed": false
   },
   "outputs": [
    {
     "name": "stdout",
     "output_type": "stream",
     "text": [
      "489\n"
     ]
    }
   ],
   "source": [
    "K = 10;\n",
    "batchsize = int(length/K)\n",
    "k = 0\n",
    "print(batchsize)"
   ]
  },
  {
   "cell_type": "code",
   "execution_count": null,
   "metadata": {
    "collapsed": true
   },
   "outputs": [],
   "source": [
    "from sklearn import svm\n",
    "clf = svm.SVC(gamma=0.001, C=100.)\n"
   ]
  },
  {
   "cell_type": "code",
   "execution_count": null,
   "metadata": {
    "collapsed": false
   },
   "outputs": [],
   "source": [
    "ave_accuracy = 0\n",
    "print( \"accuracy = \")\n",
    "for k in range(K):\n",
    "    test_set = rawdata[k*batchsize:(k+1)*batchsize];\n",
    "    if(k>0):\n",
    "        train_set1 = rawdata[0:k*batchsize];\n",
    "        train_set2 = rawdata[(k+1)*batchsize:];\n",
    "        train_set = np.concatenate((train_set1, train_set2), axis=0);\n",
    "    else:\n",
    "        train_set = rawdata[(k+1)*batchsize:];\n",
    "    wine_train_data = train_set[:,0:11]\n",
    "    wine_train_target = train_set[:, 11]\n",
    "    wine_test_data = test_set[:, 0:11]\n",
    "    wine_test_target = test_set[:, 11]\n",
    "\n",
    "    clf.set_params(kernel='rbf').fit(wine_train_data, wine_train_target) \n",
    "    \n",
    "    pre_label = clf.predict(wine_test_data)\n",
    "    \n",
    "    accuracy = 0.0\n",
    "    for i in range(batchsize):\n",
    "        if (wine_test_target[i] == pre_label[i]):\n",
    "            accuracy += 1\n",
    "    accuracy /= batchsize\n",
    "    ave_accuracy += accuracy\n",
    "    print(\"     \", round(accuracy, 2))\n",
    "print(\"average accuracy = \", round(ave_accuracy/K,2))    "
   ]
  },
  {
   "cell_type": "code",
   "execution_count": null,
   "metadata": {
    "collapsed": true
   },
   "outputs": [],
   "source": []
  }
 ],
 "metadata": {
  "kernelspec": {
   "display_name": "Python 3",
   "language": "python",
   "name": "python3"
  },
  "language_info": {
   "codemirror_mode": {
    "name": "ipython",
    "version": 3
   },
   "file_extension": ".py",
   "mimetype": "text/x-python",
   "name": "python",
   "nbconvert_exporter": "python",
   "pygments_lexer": "ipython3",
   "version": "3.6.0"
  }
 },
 "nbformat": 4,
 "nbformat_minor": 2
}
